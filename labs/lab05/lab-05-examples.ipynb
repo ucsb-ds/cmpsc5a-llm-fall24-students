{
 "cells": [
  {
   "cell_type": "markdown",
   "id": "ab5b2597-20fa-4474-beab-7b1738f0ed87",
   "metadata": {},
   "source": [
    "# Lab05 examples"
   ]
  },
  {
   "cell_type": "markdown",
   "id": "ce2360ac-ffb0-43e6-8773-6deffc8b9ff8",
   "metadata": {},
   "source": [
    "### table.sample()"
   ]
  },
  {
   "cell_type": "code",
   "execution_count": null,
   "id": "466c6e8d-5f55-442f-bce0-174cd39e3d60",
   "metadata": {},
   "outputs": [],
   "source": [
    "from datascience import *\n",
    "import numpy as np\n",
    "\n",
    "# needed for plotting with datascience module\n",
    "%matplotlib inline\n",
    "import matplotlib.pyplot as plots\n",
    "#plots.style.use('fivethirtyeight')\n",
    "\n",
    "from IPython.display import display, Image"
   ]
  },
  {
   "cell_type": "code",
   "execution_count": null,
   "id": "f76e746f-07fd-4537-b328-ec1eb4c09f49",
   "metadata": {},
   "outputs": [],
   "source": [
    "example_table = Table().with_columns(\"col1\", np.arange(100), \"col2\", np.arange(100, 200))\n",
    "example_table"
   ]
  },
  {
   "cell_type": "code",
   "execution_count": null,
   "id": "8580d94e-d628-4003-b4e9-6d7bf6cd6910",
   "metadata": {},
   "outputs": [],
   "source": [
    "# the argument is just the number of samples to take. notice the rows stick together but only some of them are chosen\n",
    "example_table.sample(10)"
   ]
  },
  {
   "cell_type": "markdown",
   "id": "42624fb1-8249-401c-9184-5220a3fda0ee",
   "metadata": {},
   "source": [
    "### Correlation"
   ]
  },
  {
   "cell_type": "code",
   "execution_count": null,
   "id": "e50947f5-9389-48af-a437-d84ae56e3870",
   "metadata": {},
   "outputs": [],
   "source": [
    "# Best way is np.corrcoef(column1, column2)[0][1]\n",
    "example_table_2 = Table().with_columns(\"col1\", [1, 2, 3, 4] , \"col2\", [-1, -4, -9, -16])\n",
    "example_table_2"
   ]
  },
  {
   "cell_type": "code",
   "execution_count": null,
   "id": "3693b316-2188-493c-b0e8-07f85561ffb8",
   "metadata": {},
   "outputs": [],
   "source": [
    "corr_matrix = np.corrcoef(example_table_2.column(\"col1\"), example_table_2.column(\"col2\"))\n",
    "corr_matrix"
   ]
  },
  {
   "cell_type": "code",
   "execution_count": null,
   "id": "5f6ae61b-0291-4a4c-9ee9-480f6858e3f6",
   "metadata": {},
   "outputs": [],
   "source": [
    "# don't worry about the whole matrix\n",
    "corr_matrix[0][1]"
   ]
  },
  {
   "cell_type": "code",
   "execution_count": 25,
   "id": "18c987a8-9385-4d75-947e-725228919443",
   "metadata": {},
   "outputs": [],
   "source": [
    "# correlation is SUM(x_i - avg(x))(y_i - avg(y)) / (std(x) * std(y)) - the function does this for you!"
   ]
  },
  {
   "cell_type": "code",
   "execution_count": null,
   "id": "e8e6743f-1698-4904-a07b-04226f96aaeb",
   "metadata": {},
   "outputs": [],
   "source": []
  }
 ],
 "metadata": {
  "kernelspec": {
   "display_name": "Python 3 (ipykernel)",
   "language": "python",
   "name": "python3"
  },
  "language_info": {
   "codemirror_mode": {
    "name": "ipython",
    "version": 3
   },
   "file_extension": ".py",
   "mimetype": "text/x-python",
   "name": "python",
   "nbconvert_exporter": "python",
   "pygments_lexer": "ipython3",
   "version": "3.11.5"
  }
 },
 "nbformat": 4,
 "nbformat_minor": 5
}
