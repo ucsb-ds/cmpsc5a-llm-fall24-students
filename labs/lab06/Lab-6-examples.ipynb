{
 "cells": [
  {
   "cell_type": "markdown",
   "id": "fd1826b7-ab3a-487f-b68b-7b9011bc7c2c",
   "metadata": {},
   "source": [
    "# Lab06 examples"
   ]
  },
  {
   "cell_type": "code",
   "execution_count": 2,
   "id": "96a472d8-a8f7-4a88-95ce-f83cc867b002",
   "metadata": {},
   "outputs": [],
   "source": [
    "from datascience import *\n",
    "import numpy as np\n",
    "\n",
    "# needed for plotting with datascience module\n",
    "%matplotlib inline\n",
    "import matplotlib.pyplot as plots\n",
    "#plots.style.use('fivethirtyeight')\n",
    "\n",
    "from IPython.display import display, Image"
   ]
  },
  {
   "cell_type": "markdown",
   "id": "c049eb0e-5c27-4030-87eb-ac1a5588f4e7",
   "metadata": {},
   "source": [
    "### You can make a bar chart with multiple columns per category"
   ]
  },
  {
   "cell_type": "code",
   "execution_count": 3,
   "id": "a69c11ff-7d5f-46ae-b6f7-56366514078a",
   "metadata": {},
   "outputs": [
    {
     "data": {
      "text/html": [
       "<table border=\"1\" class=\"dataframe\">\n",
       "    <thead>\n",
       "        <tr>\n",
       "            <th>Categories</th> <th>Variable 1</th> <th>Variable 2</th>\n",
       "        </tr>\n",
       "    </thead>\n",
       "    <tbody>\n",
       "        <tr>\n",
       "            <td>A         </td> <td>5         </td> <td>2         </td>\n",
       "        </tr>\n",
       "        <tr>\n",
       "            <td>B         </td> <td>3         </td> <td>5         </td>\n",
       "        </tr>\n",
       "        <tr>\n",
       "            <td>C         </td> <td>2         </td> <td>1         </td>\n",
       "        </tr>\n",
       "    </tbody>\n",
       "</table>"
      ],
      "text/plain": [
       "Categories | Variable 1 | Variable 2\n",
       "A          | 5          | 2\n",
       "B          | 3          | 5\n",
       "C          | 2          | 1"
      ]
     },
     "execution_count": 3,
     "metadata": {},
     "output_type": "execute_result"
    }
   ],
   "source": [
    "table1 = Table().with_columns(\"Categories\", [\"A\", \"B\", \"C\"], \"Variable 1\", [5, 3, 2], \"Variable 2\", [2, 5, 1])\n",
    "table1"
   ]
  },
  {
   "cell_type": "code",
   "execution_count": 5,
   "id": "c2e24083-f2d3-4516-a412-03b339340a63",
   "metadata": {},
   "outputs": [
    {
     "data": {
      "image/png": "[encoded data removed]",
      "text/plain": [
       "<Figure size 600x400 with 1 Axes>"
      ]
     },
     "metadata": {},
     "output_type": "display_data"
    }
   ],
   "source": [
    "table1.barh(\"Categories\")"
   ]
  },
  {
   "cell_type": "markdown",
   "id": "37cf0028-82c6-454f-988c-195faa81468b",
   "metadata": {},
   "source": [
    "### You can make a histogram with groups"
   ]
  },
  {
   "cell_type": "code",
   "execution_count": 24,
   "id": "ef02a86d-633d-4708-9f02-c22019d0ed75",
   "metadata": {},
   "outputs": [
    {
     "data": {
      "text/html": [
       "<table border=\"1\" class=\"dataframe\">\n",
       "    <thead>\n",
       "        <tr>\n",
       "            <th>rank</th> <th>ranking-institution-title</th> <th>location</th> <th>Overall scores</th> <th>Research Quality Score</th> <th>Industry Score</th> <th>International Outlook</th> <th>Research Environment Score</th> <th>Teaching Score</th> <th>Higher</th>\n",
       "        </tr>\n",
       "    </thead>\n",
       "    <tbody>\n",
       "        <tr>\n",
       "            <td>1   </td> <td>Massachusetts Institute of Technology</td> <td>United States </td> <td>94.8          </td> <td>92.2                  </td> <td>99.9          </td> <td>89.6                 </td> <td>96.5                      </td> <td>96            </td> <td>True  </td>\n",
       "        </tr>\n",
       "        <tr>\n",
       "            <td>2   </td> <td>Stanford University                  </td> <td>United States </td> <td>93.1          </td> <td>91.9                  </td> <td>100           </td> <td>83.5                 </td> <td>91.8                      </td> <td>98.2          </td> <td>True  </td>\n",
       "        </tr>\n",
       "        <tr>\n",
       "            <td>3   </td> <td>University of Oxford                 </td> <td>United Kingdom</td> <td>91.3          </td> <td>81.7                  </td> <td>89.4          </td> <td>94.5                 </td> <td>97.4                      </td> <td>93.5          </td> <td>True  </td>\n",
       "        </tr>\n",
       "        <tr>\n",
       "            <td>4   </td> <td>University of California, Berkeley   </td> <td>United States </td> <td>90.6          </td> <td>95.2                  </td> <td>90.6          </td> <td>83.5                 </td> <td>92.7                      </td> <td>91.1          </td> <td>True  </td>\n",
       "        </tr>\n",
       "        <tr>\n",
       "            <td>5   </td> <td>Peking University                    </td> <td>China         </td> <td>90.4          </td> <td>74.5                  </td> <td>95.4          </td> <td>94                   </td> <td>91.8                      </td> <td>96.3          </td> <td>True  </td>\n",
       "        </tr>\n",
       "        <tr>\n",
       "            <td>6   </td> <td>Tsinghua University                  </td> <td>China         </td> <td>89.6          </td> <td>82.5                  </td> <td>99.5          </td> <td>77.7                 </td> <td>95.2                      </td> <td>93.2          </td> <td>True  </td>\n",
       "        </tr>\n",
       "        <tr>\n",
       "            <td>7   </td> <td>University of Cambridge              </td> <td>United Kingdom</td> <td>89.4          </td> <td>86.6                  </td> <td>76.7          </td> <td>95.4                 </td> <td>94.6                      </td> <td>93.8          </td> <td>True  </td>\n",
       "        </tr>\n",
       "        <tr>\n",
       "            <td>8   </td> <td>ETH Zurich                           </td> <td>Switzerland   </td> <td>88.3          </td> <td>87.1                  </td> <td>99.5          </td> <td>96.4                 </td> <td>83.1                      </td> <td>75.2          </td> <td>True  </td>\n",
       "        </tr>\n",
       "        <tr>\n",
       "            <td>9   </td> <td>Harvard University                   </td> <td>United States </td> <td>87.1          </td> <td>95.2                  </td> <td>69.8          </td> <td>82.1                 </td> <td>93.4                      </td> <td>95            </td> <td>True  </td>\n",
       "        </tr>\n",
       "        <tr>\n",
       "            <td>10  </td> <td>National University of Singapore     </td> <td>Singapore     </td> <td>86.8          </td> <td>79.7                  </td> <td>97.9          </td> <td>80.4                 </td> <td>95.9                      </td> <td>79.9          </td> <td>True  </td>\n",
       "        </tr>\n",
       "    </tbody>\n",
       "</table>\n",
       "<p>... (900 rows omitted)</p>"
      ],
      "text/plain": [
       "rank | ranking-institution-title             | location       | Overall scores | Research Quality Score | Industry Score | International Outlook | Research Environment Score | Teaching Score | Higher\n",
       "1    | Massachusetts Institute of Technology | United States  | 94.8           | 92.2                   | 99.9           | 89.6                  | 96.5                       | 96             | True\n",
       "2    | Stanford University                   | United States  | 93.1           | 91.9                   | 100            | 83.5                  | 91.8                       | 98.2           | True\n",
       "3    | University of Oxford                  | United Kingdom | 91.3           | 81.7                   | 89.4           | 94.5                  | 97.4                       | 93.5           | True\n",
       "4    | University of California, Berkeley    | United States  | 90.6           | 95.2                   | 90.6           | 83.5                  | 92.7                       | 91.1           | True\n",
       "5    | Peking University                     | China          | 90.4           | 74.5                   | 95.4           | 94                    | 91.8                       | 96.3           | True\n",
       "6    | Tsinghua University                   | China          | 89.6           | 82.5                   | 99.5           | 77.7                  | 95.2                       | 93.2           | True\n",
       "7    | University of Cambridge               | United Kingdom | 89.4           | 86.6                   | 76.7           | 95.4                  | 94.6                       | 93.8           | True\n",
       "8    | ETH Zurich                            | Switzerland    | 88.3           | 87.1                   | 99.5           | 96.4                  | 83.1                       | 75.2           | True\n",
       "9    | Harvard University                    | United States  | 87.1           | 95.2                   | 69.8           | 82.1                  | 93.4                       | 95             | True\n",
       "10   | National University of Singapore      | Singapore      | 86.8           | 79.7                   | 97.9           | 80.4                  | 95.9                       | 79.9           | True\n",
       "... (900 rows omitted)"
      ]
     },
     "execution_count": 24,
     "metadata": {},
     "output_type": "execute_result"
    }
   ],
   "source": [
    "rankings = Table.read_table(\"data/world_university_rankings.csv\")\n",
    "\n",
    "def check_average(val):\n",
    "    if val>np.average(rankings.column('Overall scores')):\n",
    "        return True\n",
    "    else:\n",
    "        return False\n",
    "\n",
    "university_subset = rankings.with_column(\"Higher\",rankings.apply(check_average,\"Overall scores\"))\n",
    "university_subset"
   ]
  },
  {
   "cell_type": "code",
   "execution_count": 29,
   "id": "7a5d2a38-cb43-4d75-8bfe-c13f321adf61",
   "metadata": {},
   "outputs": [
    {
     "data": {
      "image/png": "[encoded data removed]",
      "text/plain": [
       "<Figure size 600x400 with 1 Axes>"
      ]
     },
     "metadata": {},
     "output_type": "display_data"
    }
   ],
   "source": [
    "#           table.hist(x-axis column name, group = column to split on)\n",
    "university_subset.hist('Teaching Score', group = 'Higher', bins=np.arange(0, 100, 5))"
   ]
  },
  {
   "cell_type": "markdown",
   "id": "0e6fe5ec-05ce-4fe0-b9df-39a8f12e3692",
   "metadata": {},
   "source": [
    "# Review notebook 7 for lab06 and the final!\n",
    "These topics appear on lab06 and the final\n",
    "- observed statistics\n",
    "- p tests\n",
    "- a/b testing\n",
    "- permutation testing"
   ]
  },
  {
   "cell_type": "code",
   "execution_count": null,
   "id": "1e01f455-18e0-498c-8a98-2da8995cb61a",
   "metadata": {},
   "outputs": [],
   "source": []
  }
 ],
 "metadata": {
  "kernelspec": {
   "display_name": "Python 3 (ipykernel)",
   "language": "python",
   "name": "python3"
  },
  "language_info": {
   "codemirror_mode": {
    "name": "ipython",
    "version": 3
   },
   "file_extension": ".py",
   "mimetype": "text/x-python",
   "name": "python",
   "nbconvert_exporter": "python",
   "pygments_lexer": "ipython3",
   "version": "3.11.5"
  }
 },
 "nbformat": 4,
 "nbformat_minor": 5
}
