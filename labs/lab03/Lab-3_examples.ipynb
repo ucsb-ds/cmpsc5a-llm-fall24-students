{
 "cells": [
  {
   "cell_type": "code",
   "execution_count": 18,
   "id": "78941ea9-7acb-423a-bc64-bc78bc245b70",
   "metadata": {},
   "outputs": [
    {
     "name": "stdout",
     "output_type": "stream",
     "text": [
      "The jupyter_ai_magics extension is already loaded. To reload it, use:\n",
      "  %reload_ext jupyter_ai_magics\n",
      "found credentials file at /share/edc/home/antonis/TA/CS_5A_fall24/creds.json\n"
     ]
    }
   ],
   "source": [
    "%load_ext jupyter_ai_magics\n",
    "import os\n",
    "import json \n",
    "\n",
    "# Construct the path to creds.json\n",
    "creds_path = os.path.join(os.path.dirname(os.path.dirname(os.path.dirname(os.getcwd()))), 'creds.json')\n",
    "\n",
    "if os.path.exists(creds_path):\n",
    "    print(f\"found credentials file at {creds_path}\")\n",
    "    with open(creds_path, 'r') as f:\n",
    "        creds = json.load(f)\n",
    "    os.environ['OPENAI_API_KEY'] = creds['OPENAI_API_KEY']\n",
    "else:\n",
    "    print(f\"Credentials file not found at {creds_path}\")"
   ]
  },
  {
   "cell_type": "code",
   "execution_count": 19,
   "id": "2d9bfdcd-0d9d-40cb-b96a-477e79ab0ae8",
   "metadata": {},
   "outputs": [],
   "source": [
    "from datascience import *\n",
    "import numpy as np"
   ]
  },
  {
   "cell_type": "markdown",
   "id": "00f19d1d-dd3d-47b5-9b52-e2c195204cf3",
   "metadata": {},
   "source": [
    "### Conditionals and Iterations"
   ]
  },
  {
   "cell_type": "markdown",
   "id": "86fdc21b",
   "metadata": {},
   "source": [
    "**Q1:** You are given some data about the daily profits of a company below. Can you count the number of days where:\n",
    "\n",
    "1. the profits are BOTH multiple of 5, and even? \n",
    "2. check if any day has a profit below 10? Print your results."
   ]
  },
  {
   "cell_type": "code",
   "execution_count": 20,
   "id": "69f02df2",
   "metadata": {},
   "outputs": [],
   "source": [
    "profit = [5, 10, 13, 18, 21, 27, 35, 40]"
   ]
  },
  {
   "cell_type": "markdown",
   "id": "767631bc",
   "metadata": {},
   "source": [
    "### Functions"
   ]
  },
  {
   "cell_type": "markdown",
   "id": "3499a5e0",
   "metadata": {},
   "source": [
    "**Q2:** Create a function that takes 2 numbers as input and returns their sum."
   ]
  },
  {
   "cell_type": "markdown",
   "id": "2b60b4f6",
   "metadata": {},
   "source": [
    "**Q3:** Create a function that categorizes universities based on their research score:\n",
    "   'Excellent' for scores 90 and above, 'Good' for scores between 80 and 90,\n",
    "   and 'Average' for scores below 80. Apply this function to create a new column\n",
    "   in the universities table."
   ]
  },
  {
   "cell_type": "code",
   "execution_count": 21,
   "id": "9bdafa2e",
   "metadata": {},
   "outputs": [],
   "source": [
    "# First load the data!\n",
    "universities = Table.read_table('../data/world_university_rankings-Copy1.csv')"
   ]
  },
  {
   "cell_type": "code",
   "execution_count": 22,
   "id": "15c4e954",
   "metadata": {},
   "outputs": [
    {
     "data": {
      "text/html": [
       "<table border=\"1\" class=\"dataframe\">\n",
       "    <thead>\n",
       "        <tr>\n",
       "            <th>rank</th> <th>ranking-institution-title</th> <th>location</th> <th>Overall scores</th> <th>Research Quality Score</th> <th>Industry Score</th> <th>International Outlook</th> <th>Research Environment Score</th> <th>Teaching Score</th>\n",
       "        </tr>\n",
       "    </thead>\n",
       "    <tbody>\n",
       "        <tr>\n",
       "            <td>1   </td> <td>Massachusetts Institute of Technology</td> <td>United States </td> <td>94.8          </td> <td>92.2                  </td> <td>99.9          </td> <td>89.6                 </td> <td>96.5                      </td> <td>96            </td>\n",
       "        </tr>\n",
       "        <tr>\n",
       "            <td>2   </td> <td>Stanford University                  </td> <td>United States </td> <td>93.1          </td> <td>91.9                  </td> <td>100           </td> <td>83.5                 </td> <td>91.8                      </td> <td>98.2          </td>\n",
       "        </tr>\n",
       "        <tr>\n",
       "            <td>3   </td> <td>University of Oxford                 </td> <td>United Kingdom</td> <td>91.3          </td> <td>81.7                  </td> <td>89.4          </td> <td>94.5                 </td> <td>97.4                      </td> <td>93.5          </td>\n",
       "        </tr>\n",
       "        <tr>\n",
       "            <td>4   </td> <td>University of California, Berkeley   </td> <td>United States </td> <td>90.6          </td> <td>95.2                  </td> <td>90.6          </td> <td>83.5                 </td> <td>92.7                      </td> <td>91.1          </td>\n",
       "        </tr>\n",
       "        <tr>\n",
       "            <td>5   </td> <td>Peking University                    </td> <td>China         </td> <td>90.4          </td> <td>74.5                  </td> <td>95.4          </td> <td>94                   </td> <td>91.8                      </td> <td>96.3          </td>\n",
       "        </tr>\n",
       "    </tbody>\n",
       "</table>\n",
       "<p>... (905 rows omitted)</p>"
      ],
      "text/plain": [
       "<IPython.core.display.HTML object>"
      ]
     },
     "metadata": {},
     "output_type": "display_data"
    }
   ],
   "source": [
    "universities.show(5)"
   ]
  },
  {
   "cell_type": "code",
   "execution_count": 23,
   "id": "16eabcee",
   "metadata": {},
   "outputs": [
    {
     "ename": "ValueError",
     "evalue": "The column \"name\" is not in the table. The table contains these columns: rank, ranking-institution-title, location, Overall scores, Research Quality Score, Industry Score, International Outlook, Research Environment Score, Teaching Score",
     "output_type": "error",
     "traceback": [
      "\u001b[0;31m---------------------------------------------------------------------------\u001b[0m",
      "\u001b[0;31mValueError\u001b[0m                                Traceback (most recent call last)",
      "Cell \u001b[0;32mIn[23], line 1\u001b[0m\n\u001b[0;32m----> 1\u001b[0m universities \u001b[38;5;241m=\u001b[39m \u001b[43muniversities\u001b[49m\u001b[38;5;241;43m.\u001b[39;49m\u001b[43mselect\u001b[49m\u001b[43m(\u001b[49m\u001b[38;5;124;43m'\u001b[39;49m\u001b[38;5;124;43mname\u001b[39;49m\u001b[38;5;124;43m'\u001b[39;49m\u001b[43m,\u001b[49m\u001b[43m \u001b[49m\u001b[38;5;124;43m'\u001b[39;49m\u001b[38;5;124;43mresearch\u001b[39;49m\u001b[38;5;124;43m'\u001b[39;49m\u001b[43m)\u001b[49m\n\u001b[1;32m      2\u001b[0m universities\n\u001b[1;32m      4\u001b[0m \u001b[38;5;28;01mdef\u001b[39;00m \u001b[38;5;21mcategorize_university\u001b[39m(research_score):\n",
      "File \u001b[0;32m~/.conda/envs/CS5A/lib/python3.12/site-packages/datascience/tables.py:1252\u001b[0m, in \u001b[0;36mTable.select\u001b[0;34m(self, *column_or_columns)\u001b[0m\n\u001b[1;32m   1250\u001b[0m table \u001b[38;5;241m=\u001b[39m \u001b[38;5;28mtype\u001b[39m(\u001b[38;5;28mself\u001b[39m)()\n\u001b[1;32m   1251\u001b[0m \u001b[38;5;28;01mfor\u001b[39;00m label \u001b[38;5;129;01min\u001b[39;00m labels:\n\u001b[0;32m-> 1252\u001b[0m     \u001b[38;5;28mself\u001b[39m\u001b[38;5;241m.\u001b[39m_add_column_and_format(table, label, np\u001b[38;5;241m.\u001b[39mcopy(\u001b[38;5;28;43mself\u001b[39;49m\u001b[43m[\u001b[49m\u001b[43mlabel\u001b[49m\u001b[43m]\u001b[49m))\n\u001b[1;32m   1253\u001b[0m \u001b[38;5;28;01mreturn\u001b[39;00m table\n",
      "File \u001b[0;32m~/.conda/envs/CS5A/lib/python3.12/site-packages/datascience/tables.py:261\u001b[0m, in \u001b[0;36mTable.__getitem__\u001b[0;34m(self, index_or_label)\u001b[0m\n\u001b[1;32m    260\u001b[0m \u001b[38;5;28;01mdef\u001b[39;00m \u001b[38;5;21m__getitem__\u001b[39m(\u001b[38;5;28mself\u001b[39m, index_or_label):\n\u001b[0;32m--> 261\u001b[0m     \u001b[38;5;28;01mreturn\u001b[39;00m \u001b[38;5;28;43mself\u001b[39;49m\u001b[38;5;241;43m.\u001b[39;49m\u001b[43mcolumn\u001b[49m\u001b[43m(\u001b[49m\u001b[43mindex_or_label\u001b[49m\u001b[43m)\u001b[49m\n",
      "File \u001b[0;32m~/.conda/envs/CS5A/lib/python3.12/site-packages/datascience/tables.py:408\u001b[0m, in \u001b[0;36mTable.column\u001b[0;34m(self, index_or_label)\u001b[0m\n\u001b[1;32m    383\u001b[0m \u001b[38;5;250m\u001b[39m\u001b[38;5;124;03m\"\"\"Return the values of a column as an array.\u001b[39;00m\n\u001b[1;32m    384\u001b[0m \n\u001b[1;32m    385\u001b[0m \u001b[38;5;124;03mtable.column(label) is equivalent to table[label].\u001b[39;00m\n\u001b[0;32m   (...)\u001b[0m\n\u001b[1;32m    404\u001b[0m \u001b[38;5;124;03m    ``ValueError``: When the ``index_or_label`` is not in the table.\u001b[39;00m\n\u001b[1;32m    405\u001b[0m \u001b[38;5;124;03m\"\"\"\u001b[39;00m\n\u001b[1;32m    406\u001b[0m \u001b[38;5;28;01mif\u001b[39;00m (\u001b[38;5;28misinstance\u001b[39m(index_or_label, \u001b[38;5;28mstr\u001b[39m)\n\u001b[1;32m    407\u001b[0m         \u001b[38;5;129;01mand\u001b[39;00m index_or_label \u001b[38;5;129;01mnot\u001b[39;00m \u001b[38;5;129;01min\u001b[39;00m \u001b[38;5;28mself\u001b[39m\u001b[38;5;241m.\u001b[39mlabels):\n\u001b[0;32m--> 408\u001b[0m     \u001b[38;5;28;01mraise\u001b[39;00m \u001b[38;5;167;01mValueError\u001b[39;00m(\n\u001b[1;32m    409\u001b[0m         \u001b[38;5;124m'\u001b[39m\u001b[38;5;124mThe column \u001b[39m\u001b[38;5;124m\"\u001b[39m\u001b[38;5;132;01m{}\u001b[39;00m\u001b[38;5;124m\"\u001b[39m\u001b[38;5;124m is not in the table. The table contains \u001b[39m\u001b[38;5;124m'\u001b[39m\n\u001b[1;32m    410\u001b[0m         \u001b[38;5;124m'\u001b[39m\u001b[38;5;124mthese columns: \u001b[39m\u001b[38;5;132;01m{}\u001b[39;00m\u001b[38;5;124m'\u001b[39m\n\u001b[1;32m    411\u001b[0m         \u001b[38;5;241m.\u001b[39mformat(index_or_label, \u001b[38;5;124m'\u001b[39m\u001b[38;5;124m, \u001b[39m\u001b[38;5;124m'\u001b[39m\u001b[38;5;241m.\u001b[39mjoin(\u001b[38;5;28mself\u001b[39m\u001b[38;5;241m.\u001b[39mlabels))\n\u001b[1;32m    412\u001b[0m     )\n\u001b[1;32m    413\u001b[0m \u001b[38;5;28;01mif\u001b[39;00m (\u001b[38;5;28misinstance\u001b[39m(index_or_label, \u001b[38;5;28mint\u001b[39m)\n\u001b[1;32m    414\u001b[0m         \u001b[38;5;129;01mand\u001b[39;00m \u001b[38;5;129;01mnot\u001b[39;00m \u001b[38;5;241m0\u001b[39m \u001b[38;5;241m<\u001b[39m\u001b[38;5;241m=\u001b[39m index_or_label \u001b[38;5;241m<\u001b[39m \u001b[38;5;28mlen\u001b[39m(\u001b[38;5;28mself\u001b[39m\u001b[38;5;241m.\u001b[39mlabels)):\n\u001b[1;32m    415\u001b[0m     \u001b[38;5;28;01mraise\u001b[39;00m \u001b[38;5;167;01mValueError\u001b[39;00m(\n\u001b[1;32m    416\u001b[0m         \u001b[38;5;124m'\u001b[39m\u001b[38;5;124mThe index \u001b[39m\u001b[38;5;132;01m{}\u001b[39;00m\u001b[38;5;124m is not in the table. Only indices between \u001b[39m\u001b[38;5;124m'\u001b[39m\n\u001b[1;32m    417\u001b[0m         \u001b[38;5;124m'\u001b[39m\u001b[38;5;124m0 and \u001b[39m\u001b[38;5;132;01m{}\u001b[39;00m\u001b[38;5;124m are valid\u001b[39m\u001b[38;5;124m'\u001b[39m\n\u001b[1;32m    418\u001b[0m         \u001b[38;5;241m.\u001b[39mformat(index_or_label, \u001b[38;5;28mlen\u001b[39m(\u001b[38;5;28mself\u001b[39m\u001b[38;5;241m.\u001b[39mlabels) \u001b[38;5;241m-\u001b[39m \u001b[38;5;241m1\u001b[39m)\n\u001b[1;32m    419\u001b[0m     )\n",
      "\u001b[0;31mValueError\u001b[0m: The column \"name\" is not in the table. The table contains these columns: rank, ranking-institution-title, location, Overall scores, Research Quality Score, Industry Score, International Outlook, Research Environment Score, Teaching Score"
     ]
    }
   ],
   "source": [
    "universities = universities.select('name', 'research')\n",
    "universities\n",
    "\n",
    "def categorize_university(research_score):\n",
    "    if research_score >= 90:\n",
    "        return 'Excellent'\n",
    "    elif research_score >= 80:\n",
    "        return 'Good'\n",
    "    else:\n",
    "        return 'Average'\n",
    "\n",
    "universities = universities.with_column('category', universities.apply(categorize_university, 'research'))\n",
    "universities\n",
    "\n",
    "\"\"\"\n",
    "Note: Language model solution wrong. It tries to use a column that does not exist.\n",
    "Why do you think that happens?\n",
    "\"\"\"\n"
   ]
  },
  {
   "cell_type": "markdown",
   "id": "8ea2a0a2",
   "metadata": {},
   "source": [
    "**Q4:** Write a function that finds the university with the highest research score\n",
    "   for each country. How would you use this function with the universities table?"
   ]
  },
  {
   "cell_type": "code",
   "execution_count": 24,
   "id": "2ccba9b2",
   "metadata": {},
   "outputs": [
    {
     "data": {
      "text/markdown": [
       "My name is OpenAI."
      ],
      "text/plain": [
       "<IPython.core.display.Markdown object>"
      ]
     },
     "execution_count": 24,
     "metadata": {
      "text/markdown": {
       "jupyter_ai": {
        "model_id": "gpt-4",
        "provider_id": "openai-chat"
       }
      }
     },
     "output_type": "execute_result"
    }
   ],
   "source": [
    "%%ai gpt4\n",
    "what's your name?"
   ]
  }
 ],
 "metadata": {
  "kernelspec": {
   "display_name": "Python 3 (ipykernel)",
   "language": "python",
   "name": "python3"
  },
  "language_info": {
   "codemirror_mode": {
    "name": "ipython",
    "version": 3
   },
   "file_extension": ".py",
   "mimetype": "text/x-python",
   "name": "python",
   "nbconvert_exporter": "python",
   "pygments_lexer": "ipython3",
   "version": "3.12.7"
  }
 },
 "nbformat": 4,
 "nbformat_minor": 5
}
