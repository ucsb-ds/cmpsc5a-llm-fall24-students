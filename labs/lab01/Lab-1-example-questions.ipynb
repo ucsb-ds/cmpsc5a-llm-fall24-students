{
 "cells": [
  {
   "cell_type": "markdown",
   "id": "d6b5e35a-fed2-4971-8861-3deadc81d38d",
   "metadata": {},
   "source": [
    "# Some example problems similar to lab1\n",
    "I made up an easy problem and a harder problem similar to the problems you have on lab 1. The harder problem has an initial solution and a second, easier solution. For both questions, there is \n",
    "1. A code submission\n",
    "2. A chat gpt prompt and response that helps me solve the problem\n",
    "3. An explanation of what the code does\n",
    "\n",
    "Which is exactly what you do on the lab 1 questions"
   ]
  },
  {
   "cell_type": "markdown",
   "id": "459c28f8-f3cc-4efe-b985-8ead98ab68df",
   "metadata": {},
   "source": [
    "### Import statements"
   ]
  },
  {
   "cell_type": "code",
   "execution_count": 1,
   "id": "c87f7074-c206-4440-b071-0b1a6baf5400",
   "metadata": {},
   "outputs": [],
   "source": [
    "%load_ext jupyter_ai_magics"
   ]
  },
  {
   "cell_type": "code",
   "execution_count": 2,
   "id": "13d55016-fbfb-4f3c-a399-61d11b758a6a",
   "metadata": {},
   "outputs": [],
   "source": [
    "from datascience import *\n",
    "import numpy as np\n",
    "import math "
   ]
  },
  {
   "cell_type": "markdown",
   "id": "76d6339e-b642-407a-bebc-201dc57c1c9b",
   "metadata": {},
   "source": [
    "### Q1\n",
    "Write code to calculate the absolute value of `n`, plus `n^2`. In this example, `n = -5` but the code has to work for any number"
   ]
  },
  {
   "cell_type": "code",
   "execution_count": 3,
   "id": "64a6c9ab-955c-4fbd-a278-49d16d3898fc",
   "metadata": {},
   "outputs": [],
   "source": [
    "n = -5"
   ]
  },
  {
   "cell_type": "code",
   "execution_count": 4,
   "id": "d60c77bc-50e6-44d3-8dd2-f97b9791f144",
   "metadata": {},
   "outputs": [
    {
     "data": {
      "text/plain": [
       "30"
      ]
     },
     "execution_count": 4,
     "metadata": {},
     "output_type": "execute_result"
    }
   ],
   "source": [
    "# Part 1: code\n",
    "# By the way, any line that starts with a '#' is a comment. This is how to add notes to your code. Nothing you write as a comment will be executed as code.\n",
    "abs(n) + n**2"
   ]
  },
  {
   "cell_type": "code",
   "execution_count": 5,
   "id": "f686f1c4-0f6e-460b-8756-fd825d183343",
   "metadata": {},
   "outputs": [],
   "source": [
    "# Part 2: ChatGPT prompt. Let's say that I know how to square a number (number**2) but don't know how to get the absolute value of a number, so I ask ChatGPT and use its response in part 1:"
   ]
  },
  {
   "cell_type": "code",
   "execution_count": 6,
   "id": "c8c46e13-1c4f-460f-b5a1-c2f2bb27f343",
   "metadata": {
    "scrolled": true
   },
   "outputs": [
    {
     "data": {
      "text/markdown": [
       "In Python, you can use the built-in `abs()` function to get the absolute value of a number. This function returns the absolute value of the specified number. \n",
       "\n",
       "Here is an example:\n",
       "\n",
       "```python\n",
       "x = -10\n",
       "absolute_x = abs(x)\n",
       "print(absolute_x)\n",
       "```\n",
       "\n",
       "In this example, the absolute value of `-10` is `10`, so the output will be `10`."
      ],
      "text/plain": [
       "<IPython.core.display.Markdown object>"
      ]
     },
     "execution_count": 6,
     "metadata": {
      "text/markdown": {
       "jupyter_ai": {
        "model_id": "gpt-4",
        "provider_id": "openai-chat"
       }
      }
     },
     "output_type": "execute_result"
    }
   ],
   "source": [
    "%%ai openai-chat:gpt-4\n",
    "How can I get the absolute value of a number in python?"
   ]
  },
  {
   "cell_type": "markdown",
   "id": "c96580fe-1885-4a4b-b65b-845ebc5bcd9a",
   "metadata": {},
   "source": [
    "Part 3: Explanation. You need to write a \"short paragraph.\" Since this problem is so simple, a sentence or two is plenty but other problems (including problem 2) might require more.\n",
    "\n",
    "The code evaluates the expression absolute value of n plus n^2. I didn't know how to find the absolute value of a number so I asked chatgpt. "
   ]
  },
  {
   "cell_type": "markdown",
   "id": "0d4e9c15-fe98-4949-916f-4bbe2d8d6bb4",
   "metadata": {},
   "source": [
    "### Q2 v1 - initial way\n",
    "Write code to reverse an integer `n`. For example if `n = 1234`, the reverse of `n` is `4321`. But your code should work for all positive values of `n`."
   ]
  },
  {
   "cell_type": "code",
   "execution_count": 7,
   "id": "9ca978a8-1e02-4eec-a169-2236806c4d47",
   "metadata": {},
   "outputs": [],
   "source": [
    "n = 1234"
   ]
  },
  {
   "cell_type": "code",
   "execution_count": 8,
   "id": "ec286317-3828-4237-afea-2640347ac051",
   "metadata": {},
   "outputs": [
    {
     "data": {
      "text/plain": [
       "4321"
      ]
     },
     "execution_count": 8,
     "metadata": {},
     "output_type": "execute_result"
    }
   ],
   "source": [
    "# Part 1: code - I used the ChatGPT solution below with minor changes\n",
    "reverse = 0\n",
    "while n > 0:\n",
    "    reverse = (10*reverse) + n%10\n",
    "    n //= 10\n",
    "n = reverse\n",
    "n"
   ]
  },
  {
   "cell_type": "code",
   "execution_count": 2,
   "id": "9d77d2ff-b6e3-44d0-a917-7d84baff2f35",
   "metadata": {},
   "outputs": [],
   "source": [
    "# Part 2: ChatGPT prompt. This question is tricky for people without programming experience, so no worries if you're stumped. Here I just ask ChatGPT to solve it for me. Remember you can't just copy-and-paste, you have to understand the code!"
   ]
  },
  {
   "cell_type": "code",
   "execution_count": 21,
   "id": "a64c8d9b-3e8d-42d4-9149-4679547fabc6",
   "metadata": {},
   "outputs": [
    {
     "data": {
      "text/markdown": [
       "Here is a simple Python code snippet to reverse an integer:\n",
       "\n",
       "```python\n",
       "def reverse_integer(n):\n",
       "    reversed_n = 0\n",
       "    while n > 0:\n",
       "        remainder = n % 10\n",
       "        reversed_n = (reversed_n * 10) + remainder\n",
       "        n = n // 10\n",
       "    return reversed_n\n",
       "\n",
       "# Test the function\n",
       "print(reverse_integer(123456))\n",
       "```\n",
       "\n",
       "This function works by repeatedly taking the last digit of the current number (`n % 10` gives the last digit) and adding it to the reversed number at the appropriate place (which is achieved by first multiplying the current reversed number by 10). The original number is then divided by 10 to remove the last digit. This process is repeated until the original number becomes 0.\n",
       "\n",
       "Note: This code assumes that the input is a positive integer. If you need to handle negative integers, you could add a check at the start of the function to see if the number is negative, and if so, multiply it by -1 to make it positive. Then, reverse it as above and finally multiply the result by -1 again."
      ],
      "text/plain": [
       "<IPython.core.display.Markdown object>"
      ]
     },
     "execution_count": 21,
     "metadata": {
      "text/markdown": {
       "jupyter_ai": {
        "model_id": "gpt-4",
        "provider_id": "openai-chat"
       }
      }
     },
     "output_type": "execute_result"
    }
   ],
   "source": [
    "%%ai openai-chat:gpt-4\n",
    "Given an integer in python, how can I write code to reverse the number?"
   ]
  },
  {
   "cell_type": "code",
   "execution_count": 22,
   "id": "95fa2da6-a9e6-4443-928f-524de5653178",
   "metadata": {},
   "outputs": [],
   "source": [
    "# Part 3: Explanation. Don't just copy the response that ChatGPT gives you, try to put it in your own words:"
   ]
  },
  {
   "cell_type": "markdown",
   "id": "099e678e-e34d-4e9d-bfa2-26eef396b801",
   "metadata": {},
   "source": [
    "The code reverses an integer `n` by repeatedly removing the rightmost digit of `n` and adding it to the end of a reversed number, and repeating until `n` has no more digits. In python, `n%10` is the remainder when dividing `n` by 10, which is just the rightmost digit of `n`. Multiplying the reversed integer by 10 and adding the rightmost digit from `n` effectively appends the digit to the reversed number. Then you divide `n` by 10 with integer division to remove the rightmost digit from `n`. After the last digit is processed, `n` will be 0 so the loop ends. The code works and looks correct for positive integers. ChatGPT returned a function, I only used the function body and rewrote it slightly."
   ]
  },
  {
   "cell_type": "markdown",
   "id": "b8f1b0aa-d306-455b-86d7-b6fb12644c69",
   "metadata": {},
   "source": [
    "### Q2 v2 - more intuitively"
   ]
  },
  {
   "cell_type": "markdown",
   "id": "ae2dac9b-d736-4ca2-b37f-b979df6fe3d2",
   "metadata": {},
   "source": [
    "That code above is kind of complicated, right? It uses integer division (//), the modulo (%) operation, and a while loop to reverse the number one digit at a time. This might be the first time you're seeing some or all of these concepts, so no problem if it's confusing. If you want to really learn programming, trying to understand what this code does is a useful exercise. If you can fully understand something like the above code, I'll bet you can figure out pretty much any code you'll need to for this class, and will be more than ready for intro programming courses at UCSB like CS 8 and 9! But if that's not you, that's fine too. For now, let's see if we can get ChatGPT to show us a more intuitive way:"
   ]
  },
  {
   "cell_type": "code",
   "execution_count": 29,
   "id": "2ffc95d1-6c01-4003-b7ad-73f71dd9f2f3",
   "metadata": {},
   "outputs": [
    {
     "data": {
      "text/markdown": [
       "There isn't a built-in `reverse` function in Python that can directly reverse an integer. However, you can accomplish this by converting the integer to a string, using the `str()` function, then reversing the string using slicing syntax, and finally converting it back to an integer with the `int()` function.\n",
       "\n",
       "Here is a simple function that can reverse an integer in Python:\n",
       "\n",
       "```python\n",
       "def reverse_integer(n):\n",
       "    # Convert integer to string\n",
       "    n_str = str(n)\n",
       "    \n",
       "    # Reverse string\n",
       "    reversed_str = n_str[::-1]\n",
       "    \n",
       "    # Convert reversed string back to integer\n",
       "    reversed_int = int(reversed_str)\n",
       "    \n",
       "    return reversed_int\n",
       "```\n",
       "\n",
       "This function works for positive integers. If you want to reverse a negative integer, you would need to handle the negative sign. Here is a function that can reverse both positive and negative integers:\n",
       "\n",
       "```python\n",
       "def reverse_integer(n):\n",
       "    # Check if the number is negative\n",
       "    if n < 0:\n",
       "        # If it is, convert it to positive, reverse it, then convert it back to negative\n",
       "        return -int(str(-n)[::-1])\n",
       "    else:\n",
       "        # If it's not negative, just reverse it\n",
       "        return int(str(n)[::-1])\n",
       "```\n",
       "\n",
       "Both of these functions use Python's slicing syntax to reverse the string. The `[::-1]` slice means \"start at the end of the string and end at position 0, move with the step -1\". Effectively, this slice reverses the string."
      ],
      "text/plain": [
       "<IPython.core.display.Markdown object>"
      ]
     },
     "execution_count": 29,
     "metadata": {
      "text/markdown": {
       "jupyter_ai": {
        "model_id": "gpt-4",
        "provider_id": "openai-chat"
       }
      }
     },
     "output_type": "execute_result"
    }
   ],
   "source": [
    "%%ai openai-chat:gpt-4\n",
    "I'm new to python, and I found the reverse_integer() function defined above to be confusing. Is there some sort of reverse function I can use to help me?"
   ]
  },
  {
   "cell_type": "markdown",
   "id": "4e7e5de7-7183-456a-a02d-a9497403b544",
   "metadata": {},
   "source": [
    "---\n",
    "Just focus on the first code block. I'll walk you through what it's doing in more detail. There's a simple way to reverse a string in Python, so this version converts our number to a string, reverses the string, and converts the reversed string back into a number"
   ]
  },
  {
   "cell_type": "code",
   "execution_count": 3,
   "id": "a050a57f-758e-4f92-81a5-1eb70637b972",
   "metadata": {},
   "outputs": [
    {
     "name": "stdout",
     "output_type": "stream",
     "text": [
      "4321\n"
     ]
    }
   ],
   "source": [
    "n = 1234\n",
    "n_str = str(n) # first we convert the number into a string. So if n = 1234, n_str = \"1234\"\n",
    "reversed_str = n_str[::-1] # adding [::-1] after a string reverses it. so reversed_str = \"4321\"\n",
    "reversed_int = int(reversed_str) # we convert the reversed string back to an integer. So reversed_int = 4321\n",
    "print(reversed_int)"
   ]
  },
  {
   "cell_type": "markdown",
   "id": "1eb9deb3-c8be-4e51-a50a-97d790411afc",
   "metadata": {},
   "source": [
    "### Takeaway: If you're confused by chat gpt's output, you can try running it again. Even with the same prompt, it might give you a different answer you understand better.\n",
    "Try running the original prompt from question 2, \"Given an integer in python, how can I write code to reverse the number?\" again a few times. At least once you should get the second method that converts the number to a string and back"
   ]
  },
  {
   "cell_type": "code",
   "execution_count": null,
   "id": "d81e2c0a-4fef-42c0-8e56-2b9efd744d6e",
   "metadata": {},
   "outputs": [],
   "source": []
  }
 ],
 "metadata": {
  "kernelspec": {
   "display_name": "Python 3 (ipykernel)",
   "language": "python",
   "name": "python3"
  },
  "language_info": {
   "codemirror_mode": {
    "name": "ipython",
    "version": 3
   },
   "file_extension": ".py",
   "mimetype": "text/x-python",
   "name": "python",
   "nbconvert_exporter": "python",
   "pygments_lexer": "ipython3",
   "version": "3.11.5"
  }
 },
 "nbformat": 4,
 "nbformat_minor": 5
}
